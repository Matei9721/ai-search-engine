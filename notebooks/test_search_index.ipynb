{
 "cells": [
  {
   "cell_type": "markdown",
   "source": [
    "# Test Searx searching"
   ],
   "metadata": {
    "collapsed": false
   }
  },
  {
   "cell_type": "code",
   "execution_count": 1,
   "metadata": {
    "collapsed": true,
    "ExecuteTime": {
     "end_time": "2024-08-25T16:44:06.702517700Z",
     "start_time": "2024-08-25T16:44:05.952171100Z"
    }
   },
   "outputs": [],
   "source": [
    "from langchain_community.utilities import SearxSearchWrapper"
   ]
  },
  {
   "cell_type": "code",
   "execution_count": 2,
   "outputs": [],
   "source": [
    "search_index = SearxSearchWrapper(searx_host=\"http://localhost:8080/\")"
   ],
   "metadata": {
    "collapsed": false,
    "ExecuteTime": {
     "end_time": "2024-08-25T16:32:35.915277Z",
     "start_time": "2024-08-25T16:32:35.894276100Z"
    }
   }
  },
  {
   "cell_type": "code",
   "execution_count": 2,
   "outputs": [],
   "source": [
    "search_index = SearxSearchWrapper(searx_host=\"https://docker-searxng-zhsamuchzq-ez.a.run.app\")"
   ],
   "metadata": {
    "collapsed": false,
    "ExecuteTime": {
     "end_time": "2024-08-25T16:44:09.937264Z",
     "start_time": "2024-08-25T16:44:09.915517200Z"
    }
   }
  },
  {
   "cell_type": "code",
   "execution_count": 3,
   "outputs": [
    {
     "data": {
      "text/plain": "\"Nicolae Ceaușescu ( / tʃaʊˈʃɛskuː / chow-SHESK-oo, Romanian: [nikoˈla.e tʃe̯a.uˈʃesku] ⓘ, 26 January [ O.S. 13 January] 1918 – 25 December 1989) was a Romanian communist politician who served as the general secretary of the Romanian Communist Party from 1965 to 1989. He was the second and last communist leader of Romania. He was also the country's head of state from 1967 to ...\\n\\nNicolae Ceausescu (1918–89) was a Communist official who was leader of Romania from 1965 until he was overthrown and killed during a revolution in 1989. He instituted an extensive personality cult while in power and appointed his wife, Elena, and many members of his extended family to high posts in the government and party.\\n\\nThe Rise of Ceausescu. Nicolae was a member of the communist youth movement. He was arrested and imprisoned multiple times. His 1936 mugshot at age 18 still haunts the internet. His country passed ...\\n\\nThe trial and execution of Nicolae and Elena Ceaușescu were held on 25 December 1989 in Târgoviște, Romania. [ 1] The trial was conducted by an Extraordinary Military Tribunal, a drumhead court-martial created at the request of a newly formed group called the National Salvation Front. Its outcome was predetermined, and it resulted in guilty ...\\n\\nDecember 24, 2014 - Nicolae Ceausescu ruled with an iron fist for 25 years until he was overthrown and executed on Christmas Day in 1989. A quarter-century after his ouster, the country is still dealing with his legacy.\\n\\nSadly, Ceaușescu's relaxed attitude to press freedom and his distancing his country from the totalitarianism of other Warsaw Pact countries was not to last. By the mid-1970s, an increasingly authoritarian Ceaușescu began to rely more and more on one of the most fearsome secret police forces in the world - the Securitate.\\n\\nEven the ruthless totalitarian state created by Romania's dictator and dictatress, Nicolae and Elena Ceausescu, was gone. And they were subjected to justice after 24 years in power. It was imperfect, but it was justice nonetheless. The Rise of Ceausescu Nicolae was a member of the communist youth movement.\\n\\n23 Nov 2022 — The first and only Romanian President with a sceptre.\\n\\nDecember 25, 2019 - Our mission is to deliver unbiased, fact-based reporting that holds power to account and exposes the truth. Whether $5 or $50, every contribution counts. Support us to deliver journalism without an agenda. ... In a rambling military and civilian cemetery in Bucharest’s Sector 6 you can find the graves of Nicolae and Elena Ceausescu...\\n\\nNicolae Ceausescu, Romania's iron-fisted Communist leader, was born on January 26, 1918 in the small, rural town of Scornicesti, just outside of Bucharest. The third of ten children, Ceausescu ...\""
     },
     "execution_count": 3,
     "metadata": {},
     "output_type": "execute_result"
    }
   ],
   "source": [
    "search_index.run(\"Who is Ceausescu?\")"
   ],
   "metadata": {
    "collapsed": false,
    "ExecuteTime": {
     "end_time": "2024-08-25T16:44:11.995691500Z",
     "start_time": "2024-08-25T16:44:10.950869700Z"
    }
   }
  },
  {
   "cell_type": "code",
   "execution_count": 4,
   "outputs": [
    {
     "data": {
      "text/plain": "[{'snippet': '… Ceausescu’s staying power and both his acceptance and ultimate destruction by the Romanian people is … and former Ceausescu “court poet” Corneliu Vadim Tudor who promised to …',\n  'title': 'The Undead: Nicolae Ceausescu and paternalist politics in Romanian society and culture',\n  'link': 'https://books.google.com/books?hl=en&lr=lang_en&id=A3kJQWTZh7AC&oi=fnd&pg=PA123&dq=Who+is+Ceausescu%3F&ots=JDpQUuvYsE&sig=MXDU7I1G1GUTf31_kAEbtxcXu20',\n  'engines': ['google scholar'],\n  'category': 'science'},\n {'snippet': '… , so is what goes on in Romania the common concern of us all. Just as he who is indifferent to … inflict on society,\"\\' a living reminder of the \"Epoch of Gold, the Epoch of Ceausescu.\"\\'There …',\n  'title': 'The tragicomedy of Romanian communism',\n  'link': 'https://www.taylorfrancis.com/chapters/edit/10.4324/9780429336683-4/tragicomedy-romanian-communism-vladimir-tismaneanu',\n  'engines': ['google scholar'],\n  'category': 'science'},\n {'snippet': \"… Ceausescu, who has become the omnipotent and omniscient leader of Party and state. By the end of the 1980's Ceausescu … tion is shown, and for what qualities Ceausescu is revered. …\",\n  'title': 'Idol or leader? The origins and future of the Ceausescu cult',\n  'link': 'https://www.taylorfrancis.com/chapters/edit/10.4324/9780429304958-6/idol-leader-origins-future-ceausescu-cult-mary-ellen-fischer',\n  'engines': ['google scholar'],\n  'category': 'science'},\n {'snippet': '… and flow down, or if decisions emanate from elsewhere and Ceausescu is just a figure to … figure is the individual who can manage a ette.\" Ceausescu was the only figure who could …',\n  'title': 'Nicole Ceausescu; power and position in Romania or “the making of a president; Romanian style!”',\n  'link': 'https://search.proquest.com/openview/069425a90d99b9885d9d42468a8b6684/1.pdf?pq-origsite=gscholar&cbl=18750&diss=y',\n  'engines': ['google scholar'],\n  'category': 'science'},\n {'snippet': '… \" who could not be ignored in postwar Rumanian and Communist politics.8 Ceausescu\\'s specific role in the \"prison coup\" is … It is also difficult to ascertain Ceausescu\\'s specific powers or …',\n  'title': \"Nicolae Ceausescu: Rumania's Leader\",\n  'link': 'https://www.jstor.org/stable/45368197',\n  'engines': ['google scholar'],\n  'category': 'science'}]"
     },
     "execution_count": 4,
     "metadata": {},
     "output_type": "execute_result"
    }
   ],
   "source": [
    "search_index.results(\n",
    "    \"Who is Ceausescu?\",\n",
    "    num_results=5,\n",
    "    engines=[\"google scholar\"]\n",
    ")"
   ],
   "metadata": {
    "collapsed": false,
    "ExecuteTime": {
     "end_time": "2024-08-25T16:44:15.127841100Z",
     "start_time": "2024-08-25T16:44:14.217651300Z"
    }
   }
  },
  {
   "cell_type": "markdown",
   "source": [
    "# Test scraping pages for LLM"
   ],
   "metadata": {
    "collapsed": false
   }
  },
  {
   "cell_type": "code",
   "execution_count": 2,
   "outputs": [
    {
     "name": "stderr",
     "output_type": "stream",
     "text": [
      "USER_AGENT environment variable not set, consider setting it to identify your requests.\n"
     ]
    }
   ],
   "source": [
    "from langchain_community.document_loaders import AsyncHtmlLoader"
   ],
   "metadata": {
    "collapsed": false,
    "ExecuteTime": {
     "end_time": "2024-08-10T18:39:24.880297600Z",
     "start_time": "2024-08-10T18:39:23.708967300Z"
    }
   }
  },
  {
   "cell_type": "code",
   "execution_count": 15,
   "outputs": [],
   "source": [
    "urls = [\"https://pubmed.ncbi.nlm.nih.gov/31507611/\"]\n",
    "loader = AsyncHtmlLoader(urls)"
   ],
   "metadata": {
    "collapsed": false,
    "ExecuteTime": {
     "end_time": "2024-08-10T18:47:40.093171600Z",
     "start_time": "2024-08-10T18:47:40.074712100Z"
    }
   }
  },
  {
   "cell_type": "code",
   "execution_count": 16,
   "outputs": [
    {
     "name": "stderr",
     "output_type": "stream",
     "text": [
      "Fetching pages: 100%|##########| 1/1 [00:00<00:00,  1.54it/s]\n"
     ]
    }
   ],
   "source": [
    "docs = loader.load()"
   ],
   "metadata": {
    "collapsed": false,
    "ExecuteTime": {
     "end_time": "2024-08-10T18:47:41.450625100Z",
     "start_time": "2024-08-10T18:47:40.659131100Z"
    }
   }
  },
  {
   "cell_type": "code",
   "execution_count": 17,
   "outputs": [
    {
     "data": {
      "text/plain": "'This site needs JavaScript to work properly. Please enable it to take\\nadvantage of the complete set of features!\\n\\nClipboard, Search History, and several other advanced features are temporarily\\nunavailable.\\n\\nSkip to main page content\\n\\nAn official website of the United States government\\n\\nHere\\'s how you know\\n\\n**The .gov means it’s official.**  \\nFederal government websites often end in .gov or .mil. Before sharing\\nsensitive information, make sure you’re on a federal government site.\\n\\n**The site is secure.**  \\nThe **https://** ensures that you are connecting to the official website and\\nthat any information you provide is encrypted and transmitted securely.\\n\\nLog in Show account info\\n\\nClose\\n\\n#### Account\\n\\nLogged in as:  \\n**username**\\n\\n  * Dashboard\\n  * Publications\\n  * Account settings\\n  * Log out\\n\\nAccess keys NCBI Homepage MyNCBI Homepage Main Content Main Navigation\\n\\nSearch:  Search\\n\\nAdvanced Clipboard\\n\\nUser Guide\\n\\nSave  Email\\n\\nSend to\\n\\n  * Clipboard \\n  * My Bibliography\\n  * Collections\\n  * Citation manager\\n\\nDisplay options\\n\\nDisplay options\\n\\nFormat  Abstract PubMed PMID\\n\\n##  Save citation to file\\n\\nFormat:  Summary (text) PubMed PMID Abstract (text) CSV\\n\\nCreate file  Cancel\\n\\n##  Email citation\\n\\nSubject:  1 selected item: 31507611 - PubMed\\n\\nTo:\\n\\nFrom:\\n\\nFormat:  Summary Summary (text) Abstract Abstract (text)\\n\\nMeSH and other data\\n\\nSend email  Cancel\\n\\n###  Add to Collections\\n\\n  * Create a new collection\\n  * Add to an existing collection\\n\\nName your collection:\\n\\nName must be less than 100 characters\\n\\nChoose a collection:\\n\\nUnable to load your collection due to an error  \\nPlease try again\\n\\nAdd  Cancel\\n\\n###  Add to My Bibliography\\n\\n  * My Bibliography\\n\\nUnable to load your delegates due to an error  \\nPlease try again\\n\\nAdd  Cancel\\n\\n##  Your saved search\\n\\nName of saved search:\\n\\nSearch terms:\\n\\nTest search terms\\n\\nWould you like email updates of new search results?  Saved Search Alert Radio\\nButtons\\n\\n  * Yes\\n  * No\\n\\nEmail:  (change)\\n\\nFrequency:  Monthly Weekly Daily\\n\\nWhich day?  The first Sunday The first Monday The first Tuesday The first\\nWednesday The first Thursday The first Friday The first Saturday The first day\\nThe first weekday\\n\\nWhich day?  Sunday Monday Tuesday Wednesday Thursday Friday Saturday\\n\\nReport format:  Summary Summary (text) Abstract Abstract (text) PubMed\\n\\nSend at most:  1 item 5 items 10 items 20 items 50 items 100 items 200 items\\n\\nSend even when there aren\\'t any new results\\n\\nOptional text in email:\\n\\nSave  Cancel\\n\\n##  Create a file for external citation management software\\n\\nCreate file  Cancel\\n\\n##  Your RSS Feed\\n\\nName of RSS Feed:\\n\\nNumber of items displayed:  5 10 15 20 50 100\\n\\nCreate RSS  Cancel\\n\\nRSS Link Copy\\n\\n###  Full text links\\n\\nFrontiers Media SA  Free PMC article\\n\\nFull text links\\n\\n### Actions\\n\\nCite\\n\\nCollections\\n\\nAdd to Collections\\n\\n  * Create a new collection\\n  * Add to an existing collection\\n\\nName your collection:\\n\\nName must be less than 100 characters\\n\\nChoose a collection:\\n\\nUnable to load your collection due to an error  \\nPlease try again\\n\\nAdd  Cancel\\n\\nDisplay options\\n\\nDisplay options\\n\\nFormat AbstractPubMedPMID\\n\\n###  Share\\n\\n  *   *   * Permalink \\n\\nCopy\\n\\n###  Page navigation\\n\\n  * Title & authors \\n  * Abstract \\n  * Figures \\n  * Similar articles \\n  * Cited by \\n  * References \\n  * Publication types \\n  * MeSH terms \\n  * Substances \\n  * Related information \\n  * LinkOut - more resources \\n\\nTitle & authors Abstract Figures Similar articles Cited by References\\nPublication types MeSH terms Substances Related information LinkOut - more\\nresources\\n\\nReview\\n\\nFront Immunol\\n\\nActions\\n\\n  * Search in PubMed \\n  * Search in NLM Catalog \\n  * Add to Search \\n\\n. 2019 Aug 27:10:2022.\\n\\ndoi: 10.3389/fimmu.2019.02022.  eCollection 2019.\\n\\n#  PD-L1 Distribution and Perspective for Cancer Immunotherapy-Blockade,\\nKnockdown, or Inhibition\\n\\nYilun Wu  1 , Weiyu Chen  1 , Zhi Ping Xu  1 , Wenyi Gu  1\\n\\nAffiliations  Expand\\n\\n###  Affiliation\\n\\n  * 1 Australian Institute for Bioengineering and Nanotechnology, The University of Queensland, St. Lucia, QLD, Australia.\\n\\n  * PMID:  **31507611**\\n  * PMCID:  PMC6718566 \\n  * DOI:  10.3389/fimmu.2019.02022 \\n\\nItem in Clipboard\\n\\nReview\\n\\n#  PD-L1 Distribution and Perspective for Cancer Immunotherapy-Blockade,\\nKnockdown, or Inhibition\\n\\nYilun Wu et al. Front Immunol. 2019.\\n\\nShow details\\n\\nDisplay options\\n\\nDisplay options\\n\\nFormat  Abstract PubMed PMID\\n\\nFront Immunol\\n\\nActions\\n\\n  * Search in PubMed \\n  * Search in NLM Catalog \\n  * Add to Search \\n\\n. 2019 Aug 27:10:2022.\\n\\ndoi: 10.3389/fimmu.2019.02022.  eCollection 2019.\\n\\n###  Authors\\n\\nYilun Wu  1 , Weiyu Chen  1 , Zhi Ping Xu  1 , Wenyi Gu  1\\n\\n###  Affiliation\\n\\n  * 1 Australian Institute for Bioengineering and Nanotechnology, The University of Queensland, St. Lucia, QLD, Australia.\\n\\n  * PMID:  **31507611**\\n  * PMCID:  PMC6718566 \\n  * DOI:  10.3389/fimmu.2019.02022 \\n\\nItem in Clipboard\\n\\nFull text links Cite\\n\\nDisplay options\\n\\nDisplay options\\n\\nFormat AbstractPubMedPMID\\n\\n##  Abstract\\n\\nCancer immunotherapy involves blocking the interactions between the PD-1/PD-L1\\nimmune checkpoints with antibodies. This has shown unprecedented positive\\noutcomes in clinics. Particularly, the PD-L1 antibody therapy has shown the\\nefficiency in blocking membrane PD-L1 and efficacy in treating some advanced\\ncarcinoma. However, this therapy has limited effects on many solid tumors,\\nsuspecting to be relevant to PD-L1 located in other cellular compartments,\\nwhere they play additional roles and are associated with poor prognosis. In\\nthis review, we highlight the advances of 3 current strategies on PD-1/PD-L1\\nbased immunotherapy, summarize cellular distribution of PD-L1, and review the\\nversatile functions of intracellular PD-L1. The intracellular distribution and\\nfunction of PD-L1 may indicate why not all antibody blockade is able to fully\\nstop PD-L1 biological functions and effectively inhibit tumor growth. In this\\nregard, gene silencing may have advantages over antibody blockade on\\nsuppression of PD-L1 sources and functions. Apart from cancer cells, PD-L1\\nsilencing on host immune cells such as APC and DC can also enhance T cell\\nimmunity, leading to tumor clearance. Moreover, the molecular regulation of\\nPD-L1 expression in cells is being elucidated, which helps identify potential\\ntherapeutic molecules to target PD-L1 production and improve clinical\\noutcomes. Based on our understandings of PD-L1 distribution, regulation, and\\nfunction, we prospect that the more effective PD-L1-based cancer immunotherapy\\nwill be combination therapies.\\n\\n**Keywords:** PD-1/PD-L1 immune checkpoint; PD-L1 regulation; cancer\\nimmunotherapy; cellular PD-L1 distribution; combination therapy; gene\\nsilencing; signaling pathway inhibitor.\\n\\nPubMed Disclaimer\\n\\n##  Figures\\n\\n**\\n\\nFigure 1\\n\\n**\\n\\nImmunotherapy based on PD-1/PD-L1 interaction.…\\n\\n**\\n\\nFigure 1\\n\\n**\\n\\nImmunotherapy based on PD-1/PD-L1 interaction. **(A)** The interaction of\\nPD-1/PD-L1 causes tumor immune…\\n\\n**Figure 1**\\n\\nImmunotherapy based on PD-1/PD-L1 interaction. **(A)** The interaction of\\nPD-1/PD-L1 causes tumor immune tolerance. The PD-1/PD-L1 interaction\\nstimulates the downstream signals to suppress T cell activation, resulting in\\ntumor cell survival. **(B)** Breakdown of the PD-1/PD-L1 interaction\\nreactivates T cells and related immune responses. Without the PD-1/PD-L1\\ninteraction, the suppression signal is removed, thus leading to T cell\\nactivation, proliferation, and cytokine generation and tumor cell elimination.\\nKIR, killer-cell immunoglobulin-like receptor.\\n\\n**\\n\\nFigure 2\\n\\n**\\n\\nIllustration of different PD-L1 formats.…\\n\\n**\\n\\nFigure 2\\n\\n**\\n\\nIllustration of different PD-L1 formats. **(A)** mPD-L1, located on the tumor\\ncell membrane,…\\n\\n**Figure 2**\\n\\nIllustration of different PD-L1 formats. **(A)** mPD-L1, located on the tumor\\ncell membrane, is able to bind with PD-1 on T cells and response to tumor\\nimmune escape. PD-L1 antibody competitively binding to mPD-L1 breaks the\\ntolerance, leading to tumor cell clearance. **(B)** cPD-L1 is located in\\ncytoplasm, and potentiates to transfer to mPD-L1. **(C)** nPD-L1 is located in\\nnuclei. Its aberrant upregulation is speculated to be associated with promoted\\ncell chemo-resistance. **(D)** sPD-L1 refers to its soluble format in the\\nserum, generated from either endogenous secretion or cleaved fraction of\\nmPD-L1s. Both host cells (such as APC and DC) and tumor cells can be the\\nsource of sPD-L1. PD-L1 antibody therapeutic effect is limited to sPD-L1\\nconsumption, and cannot modulate intracellular PD-L1.\\n\\n**\\n\\nFigure 3\\n\\n**\\n\\nSignaling pathways of PD-L1 regulation.…\\n\\n**\\n\\nFigure 3\\n\\n**\\n\\nSignaling pathways of PD-L1 regulation. The instinct PD-L1 expression is\\nregulated by translational…\\n\\n**Figure 3**\\n\\nSignaling pathways of PD-L1 regulation. The instinct PD-L1 expression is\\nregulated by translational factors (HIF-1α, NF-κB, AP-1, and STATs) that binds\\nto the gene promoter. The extracellular signals (hypoxia, cytokines, and EGF\\nsignals) will be transduced _via_ different pathways (mainly through MAPK or\\nPI3K/AKT) to regulate PD-L1 expression on transcriptional level. Some miRs are\\nable to bind to 3′-UTR of PD-L1 mRNA for post transcriptional regulation.\\n\\n**\\n\\nFigure 4\\n\\n**\\n\\nThe personalized PD-L1 combination therapy,…\\n\\n**\\n\\nFigure 4\\n\\n**\\n\\nThe personalized PD-L1 combination therapy, a prospect of optimal PD-L1\\nimmunotherapy guided by…\\n\\n**Figure 4**\\n\\nThe personalized PD-L1 combination therapy, a prospect of optimal PD-L1\\nimmunotherapy guided by PD-L1 distribution and immune resistance of patients.\\nInnate immune resistant cohort: **(A)** for cells with high constitutive\\nmPD-L1, the regimen would mainly rely on antibody blockade while the\\ncombination of gene silencing or chemical inhibitor would benefit the\\ntreatment. **(B)** For cells with high intracellular PD-L1, the regimen should\\nmore rely on gene knockdown or inhibition method, supported by PD-L1 antibody.\\nAdaptive immune resistant cohort: **(C)** the inducible PD-L1 is much easier\\nto be controlled by gene silencing and chemical inhibitor combination therapy.\\nCombined immune resistance cohort: **(D)** for cells with both high\\nconstitutive and inducible PD-L1, the regimen would be better to choose the\\ncombination of antibody + gene silencing or antibody + chemical inhibitor.\\n\\nSee this image and copyright information in PMC\\n\\n##  Similar articles\\n\\n  * The Extrinsic and Intrinsic Roles of PD-L1 and Its Receptor PD-1: Implications for Immunotherapy Treatment. \\n\\nHudson K, Cross N, Jordan-Mahy N, Leyland R. Hudson K, et al. Front Immunol.\\n2020 Oct 21;11:568931. doi: 10.3389/fimmu.2020.568931. eCollection 2020. Front\\nImmunol. 2020. PMID: 33193345 Free PMC article. Review.\\n\\n  * The roles of PD-1/PD-L1 in the prognosis and immunotherapy of prostate cancer. \\n\\nXu Y, Song G, Xie S, Jiang W, Chen X, Chu M, Hu X, Wang ZW. Xu Y, et al. Mol\\nTher. 2021 Jun 2;29(6):1958-1969. doi: 10.1016/j.ymthe.2021.04.029. Epub 2021\\nApr 29. Mol Ther. 2021. PMID: 33932597 Free PMC article. Review.\\n\\n  * Immune checkpoint blockade: Releasing the brake towards hematological malignancies. \\n\\nXia Y, Medeiros LJ, Young KH. Xia Y, et al. Blood Rev. 2016 May;30(3):189-200.\\ndoi: 10.1016/j.blre.2015.11.003. Epub 2015 Nov 25. Blood Rev. 2016. PMID:\\n26699946 Review.\\n\\n  * B7-H3 Negatively Modulates CTL-Mediated Cancer Immunity. \\n\\nYonesaka K, Haratani K, Takamura S, Sakai H, Kato R, Takegawa N, Takahama T,\\nTanaka K, Hayashi H, Takeda M, Kato S, Maenishi O, Sakai K, Chiba Y, Okabe T,\\nKudo K, Hasegawa Y, Kaneda H, Yamato M, Hirotani K, Miyazawa M, Nishio K,\\nNakagawa K. Yonesaka K, et al. Clin Cancer Res. 2018 Jun 1;24(11):2653-2664.\\ndoi: 10.1158/1078-0432.CCR-17-2852. Epub 2018 Mar 12. Clin Cancer Res. 2018.\\nPMID: 29530936\\n\\n  * PD-1/PD-L1 immune checkpoint: Potential target for cancer therapy. \\n\\nDermani FK, Samadi P, Rahmani G, Kohlan AK, Najafi R. Dermani FK, et al. J\\nCell Physiol. 2019 Feb;234(2):1313-1325. doi: 10.1002/jcp.27172. Epub 2018 Sep\\n7. J Cell Physiol. 2019. PMID: 30191996 Review.\\n\\nSee all similar articles\\n\\n##  Cited by\\n\\n  * Prognostic significance of soluble PD-L1 in prostate cancer. \\n\\nZvirble M, Survila Z, Bosas P, Dobrovolskiene N, Mlynska A, Zaleskis G,\\nJursenaite J, Characiejus D, Pasukoniene V. Zvirble M, et al. Front Immunol.\\n2024 Jul 11;15:1401097. doi: 10.3389/fimmu.2024.1401097. eCollection 2024.\\nFront Immunol. 2024. PMID: 39055716 Free PMC article.\\n\\n  * Orchestrating NK and T cells via tri-specific nano-antibodies for synergistic antitumor immunity. \\n\\nYe QN, Zhu L, Liang J, Zhao DK, Tian TY, Fan YN, Ye SY, Liu H, Huang XY, Cao\\nZT, Shen S, Wang J. Ye QN, et al. Nat Commun. 2024 Jul 23;15(1):6211. doi:\\n10.1038/s41467-024-50474-y. Nat Commun. 2024. PMID: 39043643 Free PMC article.\\n\\n  * NUP43 promotes PD-L1/nPD-L1/PD-L1 feedback loop via TM4SF1/JAK/STAT3 pathway in colorectal cancer progression and metastatsis. \\n\\nWu F, Sun G, Nai Y, Shi X, Ma Y, Cao H. Wu F, et al. Cell Death Discov. 2024\\nMay 18;10(1):241. doi: 10.1038/s41420-024-02025-z. Cell Death Discov. 2024.\\nPMID: 38762481 Free PMC article.\\n\\n  * Kikuchi disease: A case report about Sintilimab-induced Kikuchi histiocytic necrotizing lymphadenitis and literature review. \\n\\nRen C, Wang Y, Yang X, Tuo Y, Li Y, Gong J. Ren C, et al. Heliyon. 2024 May\\n3;10(9):e30608. doi: 10.1016/j.heliyon.2024.e30608. eCollection 2024 May 15.\\nHeliyon. 2024. PMID: 38742085 Free PMC article.\\n\\n  * m1A inhibition fuels oncolytic virus-elicited antitumor immunity via downregulating MYC/PD-L1 signaling. \\n\\nLi S, Feng T, Liu Y, Yang Q, Song A, Wang S, Xie J, Zhang J, Yuan B, Sun Z. Li\\nS, et al. Int J Oral Sci. 2024 May 10;16(1):36. doi:\\n10.1038/s41368-024-00304-0. Int J Oral Sci. 2024. PMID: 38730256 Free PMC\\narticle.\\n\\nSee all \"Cited by\" articles\\n\\n##  References\\n\\n  1.     1. Co M. Bavencio (Avelumab) Prescribing Information. (2017). Available online at: https://www.accessdata.fda.gov/drugsatfda_docs/label/2017/761049s000lbl.pdf\\n  2.     1. Co M. KEYTRUDA (Pembrolizumab) Prescribing Information. (2014). Available online at: https://www.merck.com/product/usa/pi_circulars/k/keytruda/keytruda_pi.pdf\\n  3.     1. Li K, Tian H. Development of small-molecule immune checkpoint inhibitors of PD-1/PD-L1 as a new therapeutic strategy for tumour immunotherapy. J Drug Target. (2018) 27:244–56. 10.1080/1061186X.2018.1440400 \\\\-  DOI  \\\\-  PubMed \\n  4.     1. Jiang X, Zhou J, Giobbie-Hurder A, Wargo J, Hodi FS. The activation of MAPK in melanoma cells resistant to BRAF inhibition promotes PD-L1 expression that is reversible by MEK and PI3K inhibition. Clin Cancer Res. (2013) 19:598–609. 10.1158/1078-0432.CCR-12-2731 \\\\-  DOI  \\\\-  PubMed \\n  5.     1. Ferlay J, Soerjomataram I, Dikshit R, Eser S, Mathers C, Rebelo M, et al. . Cancer incidence and mortality worldwide: sources, methods and major patterns in GLOBOCAN 2012. Int J Cancer. (2015) 136:E359–E386. 10.1002/ijc.29210 \\\\-  DOI  \\\\-  PubMed \\n\\nShow all 117 references\\n\\n##  Publication types\\n\\n  * Research Support, Non-U.S. Gov\\'t \\n\\nActions\\n\\n    * Search in PubMed \\n    * Search in MeSH \\n    * Add to Search \\n\\n  * Review \\n\\nActions\\n\\n    * Search in PubMed \\n    * Search in MeSH \\n    * Add to Search \\n\\n##  MeSH terms\\n\\n  * Antineoplastic Agents, Immunological / pharmacology \\n\\nActions\\n\\n    * Search in PubMed \\n    * Search in MeSH \\n    * Add to Search \\n\\n  * Antineoplastic Agents, Immunological / therapeutic use \\n\\nActions\\n\\n    * Search in PubMed \\n    * Search in MeSH \\n    * Add to Search \\n\\n  * Antineoplastic Combined Chemotherapy Protocols / adverse effects \\n\\nActions\\n\\n    * Search in PubMed \\n    * Search in MeSH \\n    * Add to Search \\n\\n  * Antineoplastic Combined Chemotherapy Protocols / therapeutic use \\n\\nActions\\n\\n    * Search in PubMed \\n    * Search in MeSH \\n    * Add to Search \\n\\n  * B7-H1 Antigen / antagonists & inhibitors \\n\\nActions\\n\\n    * Search in PubMed \\n    * Search in MeSH \\n    * Add to Search \\n\\n  * B7-H1 Antigen / genetics* \\n\\nActions\\n\\n    * Search in PubMed \\n    * Search in MeSH \\n    * Add to Search \\n\\n  * B7-H1 Antigen / metabolism* \\n\\nActions\\n\\n    * Search in PubMed \\n    * Search in MeSH \\n    * Add to Search \\n\\n  * Biomarkers, Tumor \\n\\nActions\\n\\n    * Search in PubMed \\n    * Search in MeSH \\n    * Add to Search \\n\\n  * Gene Expression \\n\\nActions\\n\\n    * Search in PubMed \\n    * Search in MeSH \\n    * Add to Search \\n\\n  * Gene Expression Regulation, Neoplastic / drug effects \\n\\nActions\\n\\n    * Search in PubMed \\n    * Search in MeSH \\n    * Add to Search \\n\\n  * Gene Knockdown Techniques \\n\\nActions\\n\\n    * Search in PubMed \\n    * Search in MeSH \\n    * Add to Search \\n\\n  * Humans \\n\\nActions\\n\\n    * Search in PubMed \\n    * Search in MeSH \\n    * Add to Search \\n\\n  * Immunomodulation / drug effects \\n\\nActions\\n\\n    * Search in PubMed \\n    * Search in MeSH \\n    * Add to Search \\n\\n  * Molecular Targeted Therapy \\n\\nActions\\n\\n    * Search in PubMed \\n    * Search in MeSH \\n    * Add to Search \\n\\n  * Neoplasms / drug therapy \\n\\nActions\\n\\n    * Search in PubMed \\n    * Search in MeSH \\n    * Add to Search \\n\\n  * Neoplasms / etiology* \\n\\nActions\\n\\n    * Search in PubMed \\n    * Search in MeSH \\n    * Add to Search \\n\\n  * Neoplasms / metabolism* \\n\\nActions\\n\\n    * Search in PubMed \\n    * Search in MeSH \\n    * Add to Search \\n\\n  * Neoplasms / pathology \\n\\nActions\\n\\n    * Search in PubMed \\n    * Search in MeSH \\n    * Add to Search \\n\\n  * Programmed Cell Death 1 Receptor / antagonists & inhibitors \\n\\nActions\\n\\n    * Search in PubMed \\n    * Search in MeSH \\n    * Add to Search \\n\\n  * Programmed Cell Death 1 Receptor / metabolism \\n\\nActions\\n\\n    * Search in PubMed \\n    * Search in MeSH \\n    * Add to Search \\n\\n  * Protein Transport \\n\\nActions\\n\\n    * Search in PubMed \\n    * Search in MeSH \\n    * Add to Search \\n\\n  * Signal Transduction / drug effects \\n\\nActions\\n\\n    * Search in PubMed \\n    * Search in MeSH \\n    * Add to Search \\n\\n  * T-Lymphocytes / drug effects \\n\\nActions\\n\\n    * Search in PubMed \\n    * Search in MeSH \\n    * Add to Search \\n\\n  * T-Lymphocytes / immunology* \\n\\nActions\\n\\n    * Search in PubMed \\n    * Search in MeSH \\n    * Add to Search \\n\\n  * T-Lymphocytes / metabolism* \\n\\nActions\\n\\n    * Search in PubMed \\n    * Search in MeSH \\n    * Add to Search \\n\\n  * Treatment Outcome \\n\\nActions\\n\\n    * Search in PubMed \\n    * Search in MeSH \\n    * Add to Search \\n\\n##  Substances\\n\\n  * Antineoplastic Agents, Immunological \\n\\nActions\\n\\n    * Search in PubMed \\n    * Search in MeSH \\n    * Add to Search \\n\\n  * B7-H1 Antigen \\n\\nActions\\n\\n    * Search in PubMed \\n    * Search in MeSH \\n    * Add to Search \\n\\n  * Biomarkers, Tumor \\n\\nActions\\n\\n    * Search in PubMed \\n    * Search in MeSH \\n    * Add to Search \\n\\n  * CD274 protein, human \\n\\nActions\\n\\n    * Search in PubMed \\n    * Search in MeSH \\n    * Add to Search \\n\\n  * Programmed Cell Death 1 Receptor \\n\\nActions\\n\\n    * Search in PubMed \\n    * Search in MeSH \\n    * Add to Search \\n\\n##  Related information\\n\\n  * MedGen \\n  * PMC images \\n\\n##  LinkOut - more resources\\n\\n  * ### Full Text Sources\\n\\n    * Europe PubMed Central \\n    * Frontiers Media SA \\n    * PubMed Central \\n  * ### Other Literature Sources\\n\\n    * The Lens - Patent Citations \\n  * ### Research Materials\\n\\n    * NCI CPTC Antibody Characterization Program \\n\\n**Full text links** [x]\\n\\nFrontiers Media SA  Free PMC article\\n\\n[x]\\n\\nCite\\n\\nCopy  Download .nbib .nbib\\n\\nFormat: AMA  APA  MLA  NLM\\n\\n**Send To**\\n\\n  * Clipboard\\n  * Email\\n  * Save\\n  * My Bibliography\\n  * Collections\\n  * Citation Manager\\n\\n[x]\\n\\nNCBI Literature Resources\\n\\nMeSH PMC Bookshelf Disclaimer\\n\\nThe PubMed wordmark and PubMed logo are registered trademarks of the U.S.\\nDepartment of Health and Human Services (HHS). Unauthorized use of these marks\\nis strictly prohibited.\\n\\nFollow NCBI\\n\\nTwitter Facebook LinkedIn GitHub\\n\\nConnect with NLM\\n\\n  * Twitter\\n  * SM-Facebook\\n  * SM-Youtube\\n\\nNational Library of Medicine  \\n8600 Rockville Pike  \\nBethesda, MD 20894\\n\\nWeb Policies  \\nFOIA  \\nHHS Vulnerability Disclosure\\n\\nHelp  \\nAccessibility  \\nCareers\\n\\n  * NLM\\n  * NIH\\n  * HHS\\n  * USA.gov\\n\\n'"
     },
     "execution_count": 17,
     "metadata": {},
     "output_type": "execute_result"
    }
   ],
   "source": [
    "from langchain_community.document_transformers import Html2TextTransformer\n",
    "\n",
    "html2text = Html2TextTransformer()\n",
    "docs_transformed = html2text.transform_documents(docs)\n",
    "docs_transformed[0].page_content"
   ],
   "metadata": {
    "collapsed": false,
    "ExecuteTime": {
     "end_time": "2024-08-10T18:47:43.140924400Z",
     "start_time": "2024-08-10T18:47:43.028883200Z"
    }
   }
  },
  {
   "cell_type": "code",
   "execution_count": 18,
   "outputs": [
    {
     "data": {
      "text/plain": "True"
     },
     "execution_count": 18,
     "metadata": {},
     "output_type": "execute_result"
    }
   ],
   "source": [
    "\"Abstract\\n\\n\" in docs_transformed[0].page_content"
   ],
   "metadata": {
    "collapsed": false,
    "ExecuteTime": {
     "end_time": "2024-08-10T18:47:43.749441500Z",
     "start_time": "2024-08-10T18:47:43.727356Z"
    }
   }
  },
  {
   "cell_type": "code",
   "execution_count": 19,
   "outputs": [
    {
     "data": {
      "text/plain": "4908"
     },
     "execution_count": 19,
     "metadata": {},
     "output_type": "execute_result"
    }
   ],
   "source": [
    "docs_transformed[0].page_content.find(\"Abstract\\n\\n\")"
   ],
   "metadata": {
    "collapsed": false,
    "ExecuteTime": {
     "end_time": "2024-08-10T18:47:45.074250800Z",
     "start_time": "2024-08-10T18:47:45.049874600Z"
    }
   }
  },
  {
   "cell_type": "code",
   "execution_count": 20,
   "outputs": [
    {
     "data": {
      "text/plain": "'Abstract\\n\\nCancer immunotherapy involves blocking the interactions between the PD-1/PD-L1\\nimmune checkpoints with antibodies. This has shown unprecedented positive\\noutcomes in clinics. Particularly, the PD-L1 antibody therapy has shown the\\nefficiency in blocking membrane PD-L1 and efficacy in treating some advanced\\ncarcinoma. However, this therapy has limited effects on many solid tumors,\\nsuspecting to be relevant to PD-L1 located in other cellular compartments,\\nwhere they play additional roles and are associated with poor prognosis. In\\nthis review, we highlight the advances of 3 current strategies on PD-1/PD-L1\\nbased immunotherapy, summarize cellular distribution of PD-L1, and review the\\nversatile functions of intracellular PD-L1. The intracellular distribution and\\nfunction of PD-L1 may indicate why not all antibody blockade is able to fully\\nstop PD-L1 biological functions and effectively inhibit tumor growth. In this\\nregard, gene silencing may have advantages over antibody blockade on'"
     },
     "execution_count": 20,
     "metadata": {},
     "output_type": "execute_result"
    }
   ],
   "source": [
    "docs_transformed[0].page_content[docs_transformed[0].page_content.find(\"Abstract\\n\\n\"):docs_transformed[0].page_content.find(\"Abstract\\n\\n\") + 1000]"
   ],
   "metadata": {
    "collapsed": false,
    "ExecuteTime": {
     "end_time": "2024-08-10T18:47:45.624905400Z",
     "start_time": "2024-08-10T18:47:45.605910200Z"
    }
   }
  },
  {
   "cell_type": "code",
   "execution_count": 9,
   "outputs": [],
   "source": [
    "urls = [\"https://pubmed.ncbi.nlm.nih.gov/35408950/\", \"https://en.wikipedia.org/wiki/Nicolae_Ceau%C8%99escu\"]\n",
    "loader = AsyncHtmlLoader(urls)"
   ],
   "metadata": {
    "collapsed": false,
    "ExecuteTime": {
     "end_time": "2024-07-24T19:35:12.669299400Z",
     "start_time": "2024-07-24T19:35:12.655285800Z"
    }
   }
  },
  {
   "cell_type": "code",
   "execution_count": 10,
   "outputs": [
    {
     "name": "stderr",
     "output_type": "stream",
     "text": [
      "Fetching pages: 100%|##########| 2/2 [00:00<00:00,  3.36it/s]\n"
     ]
    }
   ],
   "source": [
    "docs = loader.load()"
   ],
   "metadata": {
    "collapsed": false,
    "ExecuteTime": {
     "end_time": "2024-07-24T19:35:18.403488100Z",
     "start_time": "2024-07-24T19:35:17.362364900Z"
    }
   }
  },
  {
   "cell_type": "code",
   "execution_count": null,
   "outputs": [],
   "source": [],
   "metadata": {
    "collapsed": false
   }
  }
 ],
 "metadata": {
  "kernelspec": {
   "display_name": "Python 3",
   "language": "python",
   "name": "python3"
  },
  "language_info": {
   "codemirror_mode": {
    "name": "ipython",
    "version": 2
   },
   "file_extension": ".py",
   "mimetype": "text/x-python",
   "name": "python",
   "nbconvert_exporter": "python",
   "pygments_lexer": "ipython2",
   "version": "2.7.6"
  }
 },
 "nbformat": 4,
 "nbformat_minor": 0
}
